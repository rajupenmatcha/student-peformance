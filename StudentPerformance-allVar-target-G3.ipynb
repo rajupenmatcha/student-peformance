{
 "cells": [
  {
   "cell_type": "markdown",
   "metadata": {},
   "source": [
    "Setup:\n",
    "This notebook was created and tested on an ml.m5.xlarge notebook instance."
   ]
  },
  {
   "cell_type": "code",
   "execution_count": 19,
   "metadata": {},
   "outputs": [],
   "source": [
    "# Define IAM role\n",
    "import boto3\n",
    "import re\n",
    "from sagemaker import get_execution_role\n",
    "from sagemaker import Session\n",
    "\n",
    "bucket = Session().default_bucket()\n",
    "role = get_execution_role()\n",
    "prefix = 'sagemaker/student-perf'"
   ]
  },
  {
   "cell_type": "markdown",
   "metadata": {},
   "source": [
    "Next, we'll import the Python libraries we'll need for the remainder of the exercise."
   ]
  },
  {
   "cell_type": "code",
   "execution_count": 20,
   "metadata": {},
   "outputs": [],
   "source": [
    "import pandas as pd\n",
    "import numpy as np\n",
    "import matplotlib.pyplot as plt\n",
    "import io\n",
    "import os\n",
    "import sys\n",
    "import time\n",
    "import json\n",
    "from IPython.display import display\n",
    "from time import strftime, gmtime\n",
    "import sagemaker\n",
    "from sagemaker.predictor import csv_serializer"
   ]
  },
  {
   "cell_type": "markdown",
   "metadata": {},
   "source": [
    "Data:\n",
    "We will be using a open dataset from: https://archive.ics.uci.edu/ml/datasets/student+performance\n",
    "\n",
    "Data Set Information:\n",
    "\n",
    "This data approach student achievement in secondary education of two Portuguese schools. The data attributes include student grades, demographic, social and school related features) and it was collected by using school reports and questionnaires. Two datasets are provided regarding the performance in two distinct subjects: Mathematics (mat) and Portuguese language (por). In [Cortez and Silva, 2008], the two datasets were modeled under binary/five-level classification and regression tasks. Important note: the target attribute G3 has a strong correlation with attributes G2 and G1. This occurs because G3 is the final year grade (issued at the 3rd period), while G1 and G2 correspond to the 1st and 2nd period grades. It is more difficult to predict G3 without G2 and G1, but such prediction is much more useful (see paper source for more details)."
   ]
  },
  {
   "cell_type": "code",
   "execution_count": 21,
   "metadata": {},
   "outputs": [
    {
     "name": "stdout",
     "output_type": "stream",
     "text": [
      "--2019-07-22 21:59:18--  https://archive.ics.uci.edu/ml/machine-learning-databases/00320/student.zip\n",
      "Resolving archive.ics.uci.edu (archive.ics.uci.edu)... 128.195.10.252\n",
      "Connecting to archive.ics.uci.edu (archive.ics.uci.edu)|128.195.10.252|:443... connected.\n",
      "HTTP request sent, awaiting response... 200 OK\n",
      "Length: 20478 (20K) [application/x-httpd-php]\n",
      "Saving to: ‘student.zip.6’\n",
      "\n",
      "student.zip.6       100%[===================>]  20.00K  --.-KB/s    in 0.07s   \n",
      "\n",
      "2019-07-22 21:59:19 (285 KB/s) - ‘student.zip.6’ saved [20478/20478]\n",
      "\n",
      "Archive:  student.zip\n",
      "  inflating: student-mat.csv         \n",
      "  inflating: student-por.csv         \n",
      "  inflating: student-merge.R         \n",
      "  inflating: student.txt             \n"
     ]
    }
   ],
   "source": [
    "!wget https://archive.ics.uci.edu/ml/machine-learning-databases/00320/student.zip\n",
    "!unzip -o student.zip"
   ]
  },
  {
   "cell_type": "code",
   "execution_count": 24,
   "metadata": {},
   "outputs": [
    {
     "data": {
      "text/html": [
       "<div>\n",
       "<style scoped>\n",
       "    .dataframe tbody tr th:only-of-type {\n",
       "        vertical-align: middle;\n",
       "    }\n",
       "\n",
       "    .dataframe tbody tr th {\n",
       "        vertical-align: top;\n",
       "    }\n",
       "\n",
       "    .dataframe thead th {\n",
       "        text-align: right;\n",
       "    }\n",
       "</style>\n",
       "<table border=\"1\" class=\"dataframe\">\n",
       "  <thead>\n",
       "    <tr style=\"text-align: right;\">\n",
       "      <th></th>\n",
       "      <th>school</th>\n",
       "      <th>sex</th>\n",
       "      <th>age</th>\n",
       "      <th>address</th>\n",
       "      <th>famsize</th>\n",
       "      <th>Pstatus</th>\n",
       "      <th>Medu</th>\n",
       "      <th>Fedu</th>\n",
       "      <th>Mjob</th>\n",
       "      <th>Fjob</th>\n",
       "      <th>reason</th>\n",
       "      <th>guardian</th>\n",
       "      <th>traveltime</th>\n",
       "      <th>studytime</th>\n",
       "      <th>failures</th>\n",
       "      <th>schoolsup</th>\n",
       "      <th>famsup</th>\n",
       "      <th>paid</th>\n",
       "      <th>activities</th>\n",
       "      <th>nursery</th>\n",
       "      <th>higher</th>\n",
       "      <th>internet</th>\n",
       "      <th>romantic</th>\n",
       "      <th>famrel</th>\n",
       "      <th>freetime</th>\n",
       "      <th>goout</th>\n",
       "      <th>Dalc</th>\n",
       "      <th>Walc</th>\n",
       "      <th>health</th>\n",
       "      <th>absences</th>\n",
       "      <th>G1</th>\n",
       "      <th>G2</th>\n",
       "      <th>G3</th>\n",
       "    </tr>\n",
       "  </thead>\n",
       "  <tbody>\n",
       "    <tr>\n",
       "      <th>0</th>\n",
       "      <td>GP</td>\n",
       "      <td>F</td>\n",
       "      <td>18</td>\n",
       "      <td>U</td>\n",
       "      <td>GT3</td>\n",
       "      <td>A</td>\n",
       "      <td>4</td>\n",
       "      <td>4</td>\n",
       "      <td>at_home</td>\n",
       "      <td>teacher</td>\n",
       "      <td>course</td>\n",
       "      <td>mother</td>\n",
       "      <td>2</td>\n",
       "      <td>2</td>\n",
       "      <td>0</td>\n",
       "      <td>yes</td>\n",
       "      <td>no</td>\n",
       "      <td>no</td>\n",
       "      <td>no</td>\n",
       "      <td>yes</td>\n",
       "      <td>yes</td>\n",
       "      <td>no</td>\n",
       "      <td>no</td>\n",
       "      <td>4</td>\n",
       "      <td>3</td>\n",
       "      <td>4</td>\n",
       "      <td>1</td>\n",
       "      <td>1</td>\n",
       "      <td>3</td>\n",
       "      <td>6</td>\n",
       "      <td>5</td>\n",
       "      <td>6</td>\n",
       "      <td>6</td>\n",
       "    </tr>\n",
       "    <tr>\n",
       "      <th>1</th>\n",
       "      <td>GP</td>\n",
       "      <td>F</td>\n",
       "      <td>17</td>\n",
       "      <td>U</td>\n",
       "      <td>GT3</td>\n",
       "      <td>T</td>\n",
       "      <td>1</td>\n",
       "      <td>1</td>\n",
       "      <td>at_home</td>\n",
       "      <td>other</td>\n",
       "      <td>course</td>\n",
       "      <td>father</td>\n",
       "      <td>1</td>\n",
       "      <td>2</td>\n",
       "      <td>0</td>\n",
       "      <td>no</td>\n",
       "      <td>yes</td>\n",
       "      <td>no</td>\n",
       "      <td>no</td>\n",
       "      <td>no</td>\n",
       "      <td>yes</td>\n",
       "      <td>yes</td>\n",
       "      <td>no</td>\n",
       "      <td>5</td>\n",
       "      <td>3</td>\n",
       "      <td>3</td>\n",
       "      <td>1</td>\n",
       "      <td>1</td>\n",
       "      <td>3</td>\n",
       "      <td>4</td>\n",
       "      <td>5</td>\n",
       "      <td>5</td>\n",
       "      <td>6</td>\n",
       "    </tr>\n",
       "    <tr>\n",
       "      <th>2</th>\n",
       "      <td>GP</td>\n",
       "      <td>F</td>\n",
       "      <td>15</td>\n",
       "      <td>U</td>\n",
       "      <td>LE3</td>\n",
       "      <td>T</td>\n",
       "      <td>1</td>\n",
       "      <td>1</td>\n",
       "      <td>at_home</td>\n",
       "      <td>other</td>\n",
       "      <td>other</td>\n",
       "      <td>mother</td>\n",
       "      <td>1</td>\n",
       "      <td>2</td>\n",
       "      <td>3</td>\n",
       "      <td>yes</td>\n",
       "      <td>no</td>\n",
       "      <td>yes</td>\n",
       "      <td>no</td>\n",
       "      <td>yes</td>\n",
       "      <td>yes</td>\n",
       "      <td>yes</td>\n",
       "      <td>no</td>\n",
       "      <td>4</td>\n",
       "      <td>3</td>\n",
       "      <td>2</td>\n",
       "      <td>2</td>\n",
       "      <td>3</td>\n",
       "      <td>3</td>\n",
       "      <td>10</td>\n",
       "      <td>7</td>\n",
       "      <td>8</td>\n",
       "      <td>10</td>\n",
       "    </tr>\n",
       "    <tr>\n",
       "      <th>3</th>\n",
       "      <td>GP</td>\n",
       "      <td>F</td>\n",
       "      <td>15</td>\n",
       "      <td>U</td>\n",
       "      <td>GT3</td>\n",
       "      <td>T</td>\n",
       "      <td>4</td>\n",
       "      <td>2</td>\n",
       "      <td>health</td>\n",
       "      <td>services</td>\n",
       "      <td>home</td>\n",
       "      <td>mother</td>\n",
       "      <td>1</td>\n",
       "      <td>3</td>\n",
       "      <td>0</td>\n",
       "      <td>no</td>\n",
       "      <td>yes</td>\n",
       "      <td>yes</td>\n",
       "      <td>yes</td>\n",
       "      <td>yes</td>\n",
       "      <td>yes</td>\n",
       "      <td>yes</td>\n",
       "      <td>yes</td>\n",
       "      <td>3</td>\n",
       "      <td>2</td>\n",
       "      <td>2</td>\n",
       "      <td>1</td>\n",
       "      <td>1</td>\n",
       "      <td>5</td>\n",
       "      <td>2</td>\n",
       "      <td>15</td>\n",
       "      <td>14</td>\n",
       "      <td>15</td>\n",
       "    </tr>\n",
       "    <tr>\n",
       "      <th>4</th>\n",
       "      <td>GP</td>\n",
       "      <td>F</td>\n",
       "      <td>16</td>\n",
       "      <td>U</td>\n",
       "      <td>GT3</td>\n",
       "      <td>T</td>\n",
       "      <td>3</td>\n",
       "      <td>3</td>\n",
       "      <td>other</td>\n",
       "      <td>other</td>\n",
       "      <td>home</td>\n",
       "      <td>father</td>\n",
       "      <td>1</td>\n",
       "      <td>2</td>\n",
       "      <td>0</td>\n",
       "      <td>no</td>\n",
       "      <td>yes</td>\n",
       "      <td>yes</td>\n",
       "      <td>no</td>\n",
       "      <td>yes</td>\n",
       "      <td>yes</td>\n",
       "      <td>no</td>\n",
       "      <td>no</td>\n",
       "      <td>4</td>\n",
       "      <td>3</td>\n",
       "      <td>2</td>\n",
       "      <td>1</td>\n",
       "      <td>2</td>\n",
       "      <td>5</td>\n",
       "      <td>4</td>\n",
       "      <td>6</td>\n",
       "      <td>10</td>\n",
       "      <td>10</td>\n",
       "    </tr>\n",
       "  </tbody>\n",
       "</table>\n",
       "</div>"
      ],
      "text/plain": [
       "  school sex  age address famsize Pstatus  Medu  Fedu     Mjob      Fjob  \\\n",
       "0     GP   F   18       U     GT3       A     4     4  at_home   teacher   \n",
       "1     GP   F   17       U     GT3       T     1     1  at_home     other   \n",
       "2     GP   F   15       U     LE3       T     1     1  at_home     other   \n",
       "3     GP   F   15       U     GT3       T     4     2   health  services   \n",
       "4     GP   F   16       U     GT3       T     3     3    other     other   \n",
       "\n",
       "   reason guardian  traveltime  studytime  failures schoolsup famsup paid  \\\n",
       "0  course   mother           2          2         0       yes     no   no   \n",
       "1  course   father           1          2         0        no    yes   no   \n",
       "2   other   mother           1          2         3       yes     no  yes   \n",
       "3    home   mother           1          3         0        no    yes  yes   \n",
       "4    home   father           1          2         0        no    yes  yes   \n",
       "\n",
       "  activities nursery higher internet romantic  famrel  freetime  goout  Dalc  \\\n",
       "0         no     yes    yes       no       no       4         3      4     1   \n",
       "1         no      no    yes      yes       no       5         3      3     1   \n",
       "2         no     yes    yes      yes       no       4         3      2     2   \n",
       "3        yes     yes    yes      yes      yes       3         2      2     1   \n",
       "4         no     yes    yes       no       no       4         3      2     1   \n",
       "\n",
       "   Walc  health  absences  G1  G2  G3  \n",
       "0     1       3         6   5   6   6  \n",
       "1     1       3         4   5   5   6  \n",
       "2     3       3        10   7   8  10  \n",
       "3     1       5         2  15  14  15  \n",
       "4     2       5         4   6  10  10  "
      ]
     },
     "execution_count": 24,
     "metadata": {},
     "output_type": "execute_result"
    }
   ],
   "source": [
    "df = pd.read_csv('./student-mat.csv', sep=\";\")\n",
    "df.head()"
   ]
  },
  {
   "cell_type": "markdown",
   "metadata": {},
   "source": [
    "Attribute Information:\n",
    "\n",
    "Attributes for both student-mat.csv (Math course) and student-por.csv (Portuguese language course) datasets: \n",
    "1 school - student's school (binary: 'GP' - Gabriel Pereira or 'MS' - Mousinho da Silveira) \n",
    "2 sex - student's sex (binary: 'F' - female or 'M' - male) \n",
    "3 age - student's age (numeric: from 15 to 22) \n",
    "4 address - student's home address type (binary: 'U' - urban or 'R' - rural) \n",
    "5 famsize - family size (binary: 'LE3' - less or equal to 3 or 'GT3' - greater than 3) \n",
    "6 Pstatus - parent's cohabitation status (binary: 'T' - living together or 'A' - apart) \n",
    "7 Medu - mother's education (numeric: 0 - none, 1 - primary education (4th grade), 2 â€“ 5th to 9th grade, 3 â€“ secondary education or 4 â€“ higher education) \n",
    "8 Fedu - father's education (numeric: 0 - none, 1 - primary education (4th grade), 2 â€“ 5th to 9th grade, 3 â€“ secondary education or 4 â€“ higher education) \n",
    "9 Mjob - mother's job (nominal: 'teacher', 'health' care related, civil 'services' (e.g. administrative or police), 'at_home' or 'other') \n",
    "10 Fjob - father's job (nominal: 'teacher', 'health' care related, civil 'services' (e.g. administrative or police), 'at_home' or 'other') \n",
    "11 reason - reason to choose this school (nominal: close to 'home', school 'reputation', 'course' preference or 'other') \n",
    "12 guardian - student's guardian (nominal: 'mother', 'father' or 'other') \n",
    "13 traveltime - home to school travel time (numeric: 1 - <15 min., 2 - 15 to 30 min., 3 - 30 min. to 1 hour, or 4 - >1 hour) \n",
    "14 studytime - weekly study time (numeric: 1 - <2 hours, 2 - 2 to 5 hours, 3 - 5 to 10 hours, or 4 - >10 hours) \n",
    "15 failures - number of past class failures (numeric: n if 1<=n<3, else 4) \n",
    "16 schoolsup - extra educational support (binary: yes or no) \n",
    "17 famsup - family educational support (binary: yes or no) \n",
    "18 paid - extra paid classes within the course subject (Math or Portuguese) (binary: yes or no) \n",
    "19 activities - extra-curricular activities (binary: yes or no) \n",
    "20 nursery - attended nursery school (binary: yes or no) \n",
    "21 higher - wants to take higher education (binary: yes or no) \n",
    "22 internet - Internet access at home (binary: yes or no) \n",
    "23 romantic - with a romantic relationship (binary: yes or no) \n",
    "24 famrel - quality of family relationships (numeric: from 1 - very bad to 5 - excellent) \n",
    "25 freetime - free time after school (numeric: from 1 - very low to 5 - very high) \n",
    "26 goout - going out with friends (numeric: from 1 - very low to 5 - very high) \n",
    "27 Dalc - workday alcohol consumption (numeric: from 1 - very low to 5 - very high) \n",
    "28 Walc - weekend alcohol consumption (numeric: from 1 - very low to 5 - very high) \n",
    "29 health - current health status (numeric: from 1 - very bad to 5 - very good) \n",
    "30 absences - number of school absences (numeric: from 0 to 93) \n",
    "\n",
    "these grades are related with the course subject, Math or Portuguese: \n",
    "31 G1 - first period grade (numeric: from 0 to 20) \n",
    "31 G2 - second period grade (numeric: from 0 to 20) \n",
    "32 G3 - final grade (numeric: from 0 to 20, output target)"
   ]
  },
  {
   "cell_type": "code",
   "execution_count": 31,
   "metadata": {},
   "outputs": [],
   "source": [
    "# convert categorical variables into numerical\n",
    "def catToNum(df, excludeList):\n",
    "    for col in df.select_dtypes(exclude=[np.number]):\n",
    "        if col in excludeList: continue\n",
    "        uniqueVal = df[col].unique()\n",
    "        for i in range(len(uniqueVal)):\n",
    "            df.loc[df[col]==uniqueVal[i], col]=i\n",
    "catToNum(df, [])"
   ]
  },
  {
   "cell_type": "code",
   "execution_count": 32,
   "metadata": {},
   "outputs": [],
   "source": [
    "# Move target column to first column as SageMaker algorithms require that format\n",
    "df = pd.concat([df['G3'], df.drop(['G3'], axis=1)], axis=1)"
   ]
  },
  {
   "cell_type": "code",
   "execution_count": 33,
   "metadata": {},
   "outputs": [
    {
     "data": {
      "text/html": [
       "<div>\n",
       "<style scoped>\n",
       "    .dataframe tbody tr th:only-of-type {\n",
       "        vertical-align: middle;\n",
       "    }\n",
       "\n",
       "    .dataframe tbody tr th {\n",
       "        vertical-align: top;\n",
       "    }\n",
       "\n",
       "    .dataframe thead th {\n",
       "        text-align: right;\n",
       "    }\n",
       "</style>\n",
       "<table border=\"1\" class=\"dataframe\">\n",
       "  <thead>\n",
       "    <tr style=\"text-align: right;\">\n",
       "      <th></th>\n",
       "      <th>G3</th>\n",
       "      <th>school</th>\n",
       "      <th>sex</th>\n",
       "      <th>age</th>\n",
       "      <th>address</th>\n",
       "      <th>famsize</th>\n",
       "      <th>Pstatus</th>\n",
       "      <th>Medu</th>\n",
       "      <th>Fedu</th>\n",
       "      <th>Mjob</th>\n",
       "      <th>Fjob</th>\n",
       "      <th>reason</th>\n",
       "      <th>guardian</th>\n",
       "      <th>traveltime</th>\n",
       "      <th>studytime</th>\n",
       "      <th>failures</th>\n",
       "      <th>schoolsup</th>\n",
       "      <th>famsup</th>\n",
       "      <th>paid</th>\n",
       "      <th>activities</th>\n",
       "      <th>nursery</th>\n",
       "      <th>higher</th>\n",
       "      <th>internet</th>\n",
       "      <th>romantic</th>\n",
       "      <th>famrel</th>\n",
       "      <th>freetime</th>\n",
       "      <th>goout</th>\n",
       "      <th>Dalc</th>\n",
       "      <th>Walc</th>\n",
       "      <th>health</th>\n",
       "      <th>absences</th>\n",
       "      <th>G1</th>\n",
       "      <th>G2</th>\n",
       "    </tr>\n",
       "  </thead>\n",
       "  <tbody>\n",
       "    <tr>\n",
       "      <th>0</th>\n",
       "      <td>6</td>\n",
       "      <td>0</td>\n",
       "      <td>0</td>\n",
       "      <td>18</td>\n",
       "      <td>0</td>\n",
       "      <td>0</td>\n",
       "      <td>0</td>\n",
       "      <td>4</td>\n",
       "      <td>4</td>\n",
       "      <td>0</td>\n",
       "      <td>0</td>\n",
       "      <td>0</td>\n",
       "      <td>0</td>\n",
       "      <td>2</td>\n",
       "      <td>2</td>\n",
       "      <td>0</td>\n",
       "      <td>0</td>\n",
       "      <td>0</td>\n",
       "      <td>0</td>\n",
       "      <td>0</td>\n",
       "      <td>0</td>\n",
       "      <td>0</td>\n",
       "      <td>0</td>\n",
       "      <td>0</td>\n",
       "      <td>4</td>\n",
       "      <td>3</td>\n",
       "      <td>4</td>\n",
       "      <td>1</td>\n",
       "      <td>1</td>\n",
       "      <td>3</td>\n",
       "      <td>6</td>\n",
       "      <td>5</td>\n",
       "      <td>6</td>\n",
       "    </tr>\n",
       "    <tr>\n",
       "      <th>1</th>\n",
       "      <td>6</td>\n",
       "      <td>0</td>\n",
       "      <td>0</td>\n",
       "      <td>17</td>\n",
       "      <td>0</td>\n",
       "      <td>0</td>\n",
       "      <td>1</td>\n",
       "      <td>1</td>\n",
       "      <td>1</td>\n",
       "      <td>0</td>\n",
       "      <td>1</td>\n",
       "      <td>0</td>\n",
       "      <td>1</td>\n",
       "      <td>1</td>\n",
       "      <td>2</td>\n",
       "      <td>0</td>\n",
       "      <td>1</td>\n",
       "      <td>1</td>\n",
       "      <td>0</td>\n",
       "      <td>0</td>\n",
       "      <td>1</td>\n",
       "      <td>0</td>\n",
       "      <td>1</td>\n",
       "      <td>0</td>\n",
       "      <td>5</td>\n",
       "      <td>3</td>\n",
       "      <td>3</td>\n",
       "      <td>1</td>\n",
       "      <td>1</td>\n",
       "      <td>3</td>\n",
       "      <td>4</td>\n",
       "      <td>5</td>\n",
       "      <td>5</td>\n",
       "    </tr>\n",
       "    <tr>\n",
       "      <th>2</th>\n",
       "      <td>10</td>\n",
       "      <td>0</td>\n",
       "      <td>0</td>\n",
       "      <td>15</td>\n",
       "      <td>0</td>\n",
       "      <td>1</td>\n",
       "      <td>1</td>\n",
       "      <td>1</td>\n",
       "      <td>1</td>\n",
       "      <td>0</td>\n",
       "      <td>1</td>\n",
       "      <td>1</td>\n",
       "      <td>0</td>\n",
       "      <td>1</td>\n",
       "      <td>2</td>\n",
       "      <td>3</td>\n",
       "      <td>0</td>\n",
       "      <td>0</td>\n",
       "      <td>1</td>\n",
       "      <td>0</td>\n",
       "      <td>0</td>\n",
       "      <td>0</td>\n",
       "      <td>1</td>\n",
       "      <td>0</td>\n",
       "      <td>4</td>\n",
       "      <td>3</td>\n",
       "      <td>2</td>\n",
       "      <td>2</td>\n",
       "      <td>3</td>\n",
       "      <td>3</td>\n",
       "      <td>10</td>\n",
       "      <td>7</td>\n",
       "      <td>8</td>\n",
       "    </tr>\n",
       "    <tr>\n",
       "      <th>3</th>\n",
       "      <td>15</td>\n",
       "      <td>0</td>\n",
       "      <td>0</td>\n",
       "      <td>15</td>\n",
       "      <td>0</td>\n",
       "      <td>0</td>\n",
       "      <td>1</td>\n",
       "      <td>4</td>\n",
       "      <td>2</td>\n",
       "      <td>1</td>\n",
       "      <td>2</td>\n",
       "      <td>2</td>\n",
       "      <td>0</td>\n",
       "      <td>1</td>\n",
       "      <td>3</td>\n",
       "      <td>0</td>\n",
       "      <td>1</td>\n",
       "      <td>1</td>\n",
       "      <td>1</td>\n",
       "      <td>1</td>\n",
       "      <td>0</td>\n",
       "      <td>0</td>\n",
       "      <td>1</td>\n",
       "      <td>1</td>\n",
       "      <td>3</td>\n",
       "      <td>2</td>\n",
       "      <td>2</td>\n",
       "      <td>1</td>\n",
       "      <td>1</td>\n",
       "      <td>5</td>\n",
       "      <td>2</td>\n",
       "      <td>15</td>\n",
       "      <td>14</td>\n",
       "    </tr>\n",
       "    <tr>\n",
       "      <th>4</th>\n",
       "      <td>10</td>\n",
       "      <td>0</td>\n",
       "      <td>0</td>\n",
       "      <td>16</td>\n",
       "      <td>0</td>\n",
       "      <td>0</td>\n",
       "      <td>1</td>\n",
       "      <td>3</td>\n",
       "      <td>3</td>\n",
       "      <td>2</td>\n",
       "      <td>1</td>\n",
       "      <td>2</td>\n",
       "      <td>1</td>\n",
       "      <td>1</td>\n",
       "      <td>2</td>\n",
       "      <td>0</td>\n",
       "      <td>1</td>\n",
       "      <td>1</td>\n",
       "      <td>1</td>\n",
       "      <td>0</td>\n",
       "      <td>0</td>\n",
       "      <td>0</td>\n",
       "      <td>0</td>\n",
       "      <td>0</td>\n",
       "      <td>4</td>\n",
       "      <td>3</td>\n",
       "      <td>2</td>\n",
       "      <td>1</td>\n",
       "      <td>2</td>\n",
       "      <td>5</td>\n",
       "      <td>4</td>\n",
       "      <td>6</td>\n",
       "      <td>10</td>\n",
       "    </tr>\n",
       "  </tbody>\n",
       "</table>\n",
       "</div>"
      ],
      "text/plain": [
       "   G3  school  sex  age  address  famsize  Pstatus  Medu  Fedu  Mjob  Fjob  \\\n",
       "0   6       0    0   18        0        0        0     4     4     0     0   \n",
       "1   6       0    0   17        0        0        1     1     1     0     1   \n",
       "2  10       0    0   15        0        1        1     1     1     0     1   \n",
       "3  15       0    0   15        0        0        1     4     2     1     2   \n",
       "4  10       0    0   16        0        0        1     3     3     2     1   \n",
       "\n",
       "   reason  guardian  traveltime  studytime  failures  schoolsup  famsup  paid  \\\n",
       "0       0         0           2          2         0          0       0     0   \n",
       "1       0         1           1          2         0          1       1     0   \n",
       "2       1         0           1          2         3          0       0     1   \n",
       "3       2         0           1          3         0          1       1     1   \n",
       "4       2         1           1          2         0          1       1     1   \n",
       "\n",
       "   activities  nursery  higher  internet  romantic  famrel  freetime  goout  \\\n",
       "0           0        0       0         0         0       4         3      4   \n",
       "1           0        1       0         1         0       5         3      3   \n",
       "2           0        0       0         1         0       4         3      2   \n",
       "3           1        0       0         1         1       3         2      2   \n",
       "4           0        0       0         0         0       4         3      2   \n",
       "\n",
       "   Dalc  Walc  health  absences  G1  G2  \n",
       "0     1     1       3         6   5   6  \n",
       "1     1     1       3         4   5   5  \n",
       "2     2     3       3        10   7   8  \n",
       "3     1     1       5         2  15  14  \n",
       "4     1     2       5         4   6  10  "
      ]
     },
     "execution_count": 33,
     "metadata": {},
     "output_type": "execute_result"
    }
   ],
   "source": [
    "df.head()"
   ]
  },
  {
   "cell_type": "code",
   "execution_count": 38,
   "metadata": {},
   "outputs": [
    {
     "name": "stdout",
     "output_type": "stream",
     "text": [
      "G3:\n"
     ]
    },
    {
     "data": {
      "image/png": "[encoded data removed]",
      "text/plain": [
       "<Figure size 432x288 with 1 Axes>"
      ]
     },
     "metadata": {},
     "output_type": "display_data"
    },
    {
     "name": "stdout",
     "output_type": "stream",
     "text": [
      "school:\n"
     ]
    },
    {
     "data": {
      "image/png": "[encoded data removed]",
      "text/plain": [
       "<Figure size 432x288 with 1 Axes>"
      ]
     },
     "metadata": {},
     "output_type": "display_data"
    },
    {
     "name": "stdout",
     "output_type": "stream",
     "text": [
      "sex:\n"
     ]
    },
    {
     "data": {
      "image/png": "[encoded data removed]",
      "text/plain": [
       "<Figure size 432x288 with 1 Axes>"
      ]
     },
     "metadata": {},
     "output_type": "display_data"
    },
    {
     "name": "stdout",
     "output_type": "stream",
     "text": [
      "age:\n"
     ]
    },
    {
     "data": {
      "image/png": "[encoded data removed]",
      "text/plain": [
       "<Figure size 432x288 with 1 Axes>"
      ]
     },
     "metadata": {},
     "output_type": "display_data"
    },
    {
     "name": "stdout",
     "output_type": "stream",
     "text": [
      "address:\n"
     ]
    },
    {
     "data": {
      "image/png": "[encoded data removed]",
      "text/plain": [
       "<Figure size 432x288 with 1 Axes>"
      ]
     },
     "metadata": {},
     "output_type": "display_data"
    },
    {
     "name": "stdout",
     "output_type": "stream",
     "text": [
      "famsize:\n"
     ]
    },
    {
     "data": {
      "image/png": "[encoded data removed]",
      "text/plain": [
       "<Figure size 432x288 with 1 Axes>"
      ]
     },
     "metadata": {},
     "output_type": "display_data"
    },
    {
     "name": "stdout",
     "output_type": "stream",
     "text": [
      "Pstatus:\n"
     ]
    },
    {
     "data": {
      "image/png": "[encoded data removed]",
      "text/plain": [
       "<Figure size 432x288 with 1 Axes>"
      ]
     },
     "metadata": {},
     "output_type": "display_data"
    },
    {
     "name": "stdout",
     "output_type": "stream",
     "text": [
      "Medu:\n"
     ]
    },
    {
     "data": {
      "image/png": "[encoded data removed]",
      "text/plain": [
       "<Figure size 432x288 with 1 Axes>"
      ]
     },
     "metadata": {},
     "output_type": "display_data"
    },
    {
     "name": "stdout",
     "output_type": "stream",
     "text": [
      "Fedu:\n"
     ]
    },
    {
     "data": {
      "image/png": "[encoded data removed]",
      "text/plain": [
       "<Figure size 432x288 with 1 Axes>"
      ]
     },
     "metadata": {},
     "output_type": "display_data"
    },
    {
     "name": "stdout",
     "output_type": "stream",
     "text": [
      "Mjob:\n"
     ]
    },
    {
     "data": {
      "image/png": "[encoded data removed]",
      "text/plain": [
       "<Figure size 432x288 with 1 Axes>"
      ]
     },
     "metadata": {},
     "output_type": "display_data"
    },
    {
     "name": "stdout",
     "output_type": "stream",
     "text": [
      "Fjob:\n"
     ]
    },
    {
     "data": {
      "image/png": "[encoded data removed]",
      "text/plain": [
       "<Figure size 432x288 with 1 Axes>"
      ]
     },
     "metadata": {},
     "output_type": "display_data"
    },
    {
     "name": "stdout",
     "output_type": "stream",
     "text": [
      "reason:\n"
     ]
    },
    {
     "data": {
      "image/png": "[encoded data removed]",
      "text/plain": [
       "<Figure size 432x288 with 1 Axes>"
      ]
     },
     "metadata": {},
     "output_type": "display_data"
    },
    {
     "name": "stdout",
     "output_type": "stream",
     "text": [
      "guardian:\n"
     ]
    },
    {
     "data": {
      "image/png": "[encoded data removed]",
      "text/plain": [
       "<Figure size 432x288 with 1 Axes>"
      ]
     },
     "metadata": {},
     "output_type": "display_data"
    },
    {
     "name": "stdout",
     "output_type": "stream",
     "text": [
      "traveltime:\n"
     ]
    },
    {
     "data": {
      "image/png": "[encoded data removed]",
      "text/plain": [
       "<Figure size 432x288 with 1 Axes>"
      ]
     },
     "metadata": {},
     "output_type": "display_data"
    },
    {
     "name": "stdout",
     "output_type": "stream",
     "text": [
      "studytime:\n"
     ]
    },
    {
     "data": {
      "image/png": "[encoded data removed]",
      "text/plain": [
       "<Figure size 432x288 with 1 Axes>"
      ]
     },
     "metadata": {},
     "output_type": "display_data"
    },
    {
     "name": "stdout",
     "output_type": "stream",
     "text": [
      "failures:\n"
     ]
    },
    {
     "data": {
      "image/png": "[encoded data removed]",
      "text/plain": [
       "<Figure size 432x288 with 1 Axes>"
      ]
     },
     "metadata": {},
     "output_type": "display_data"
    },
    {
     "name": "stdout",
     "output_type": "stream",
     "text": [
      "schoolsup:\n"
     ]
    },
    {
     "data": {
      "image/png": "[encoded data removed]",
      "text/plain": [
       "<Figure size 432x288 with 1 Axes>"
      ]
     },
     "metadata": {},
     "output_type": "display_data"
    },
    {
     "name": "stdout",
     "output_type": "stream",
     "text": [
      "famsup:\n"
     ]
    },
    {
     "data": {
      "image/png": "[encoded data removed]",
      "text/plain": [
       "<Figure size 432x288 with 1 Axes>"
      ]
     },
     "metadata": {},
     "output_type": "display_data"
    },
    {
     "name": "stdout",
     "output_type": "stream",
     "text": [
      "paid:\n"
     ]
    },
    {
     "data": {
      "image/png": "[encoded data removed]",
      "text/plain": [
       "<Figure size 432x288 with 1 Axes>"
      ]
     },
     "metadata": {},
     "output_type": "display_data"
    },
    {
     "name": "stdout",
     "output_type": "stream",
     "text": [
      "activities:\n"
     ]
    },
    {
     "data": {
      "image/png": "[encoded data removed]",
      "text/plain": [
       "<Figure size 432x288 with 1 Axes>"
      ]
     },
     "metadata": {},
     "output_type": "display_data"
    },
    {
     "name": "stdout",
     "output_type": "stream",
     "text": [
      "nursery:\n"
     ]
    },
    {
     "data": {
      "image/png": "[encoded data removed]",
      "text/plain": [
       "<Figure size 432x288 with 1 Axes>"
      ]
     },
     "metadata": {},
     "output_type": "display_data"
    },
    {
     "name": "stdout",
     "output_type": "stream",
     "text": [
      "higher:\n"
     ]
    },
    {
     "data": {
      "image/png": "[encoded data removed]",
      "text/plain": [
       "<Figure size 432x288 with 1 Axes>"
      ]
     },
     "metadata": {},
     "output_type": "display_data"
    },
    {
     "name": "stdout",
     "output_type": "stream",
     "text": [
      "internet:\n"
     ]
    },
    {
     "data": {
      "image/png": "[encoded data removed]",
      "text/plain": [
       "<Figure size 432x288 with 1 Axes>"
      ]
     },
     "metadata": {},
     "output_type": "display_data"
    },
    {
     "name": "stdout",
     "output_type": "stream",
     "text": [
      "romantic:\n"
     ]
    },
    {
     "data": {
      "image/png": "[encoded data removed]",
      "text/plain": [
       "<Figure size 432x288 with 1 Axes>"
      ]
     },
     "metadata": {},
     "output_type": "display_data"
    },
    {
     "name": "stdout",
     "output_type": "stream",
     "text": [
      "famrel:\n"
     ]
    },
    {
     "data": {
      "image/png": "[encoded data removed]",
      "text/plain": [
       "<Figure size 432x288 with 1 Axes>"
      ]
     },
     "metadata": {},
     "output_type": "display_data"
    },
    {
     "name": "stdout",
     "output_type": "stream",
     "text": [
      "freetime:\n"
     ]
    },
    {
     "data": {
      "image/png": "[encoded data removed]",
      "text/plain": [
       "<Figure size 432x288 with 1 Axes>"
      ]
     },
     "metadata": {},
     "output_type": "display_data"
    },
    {
     "name": "stdout",
     "output_type": "stream",
     "text": [
      "goout:\n"
     ]
    },
    {
     "data": {
      "image/png": "[encoded data removed]",
      "text/plain": [
       "<Figure size 432x288 with 1 Axes>"
      ]
     },
     "metadata": {},
     "output_type": "display_data"
    },
    {
     "name": "stdout",
     "output_type": "stream",
     "text": [
      "Dalc:\n"
     ]
    },
    {
     "data": {
      "image/png": "[encoded data removed]",
      "text/plain": [
       "<Figure size 432x288 with 1 Axes>"
      ]
     },
     "metadata": {},
     "output_type": "display_data"
    },
    {
     "name": "stdout",
     "output_type": "stream",
     "text": [
      "Walc:\n"
     ]
    },
    {
     "data": {
      "image/png": "[encoded data removed]",
      "text/plain": [
       "<Figure size 432x288 with 1 Axes>"
      ]
     },
     "metadata": {},
     "output_type": "display_data"
    },
    {
     "name": "stdout",
     "output_type": "stream",
     "text": [
      "health:\n"
     ]
    },
    {
     "data": {
      "image/png": "[encoded data removed]",
      "text/plain": [
       "<Figure size 432x288 with 1 Axes>"
      ]
     },
     "metadata": {},
     "output_type": "display_data"
    },
    {
     "name": "stdout",
     "output_type": "stream",
     "text": [
      "absences:\n"
     ]
    },
    {
     "data": {
      "image/png": "[encoded data removed]",
      "text/plain": [
       "<Figure size 432x288 with 1 Axes>"
      ]
     },
     "metadata": {},
     "output_type": "display_data"
    },
    {
     "name": "stdout",
     "output_type": "stream",
     "text": [
      "G1:\n"
     ]
    },
    {
     "data": {
      "image/png": "[encoded data removed]",
      "text/plain": [
       "<Figure size 432x288 with 1 Axes>"
      ]
     },
     "metadata": {},
     "output_type": "display_data"
    },
    {
     "name": "stdout",
     "output_type": "stream",
     "text": [
      "G2:\n"
     ]
    },
    {
     "data": {
      "image/png": "[encoded data removed]",
      "text/plain": [
       "<Figure size 432x288 with 1 Axes>"
      ]
     },
     "metadata": {},
     "output_type": "display_data"
    }
   ],
   "source": [
    "# Let's do some univariate analysis to understand the data better\n",
    "def univariate(df):\n",
    "    # numericals\n",
    "    for col in df.select_dtypes(include=[np.number]).columns:\n",
    "        print (col + \":\")\n",
    "        df[col].hist()\n",
    "        plt.show()\n",
    "    # non-numerical columns\n",
    "    for col in df.select_dtypes(exclude=[np.number]).columns:\n",
    "        if len(df[col].unique())<MIN_UNIQUE:\n",
    "            print (col + \":\")\n",
    "            print (df[col].value_counts())\n",
    "            print ()\n",
    "univariate(df)"
   ]
  },
  {
   "cell_type": "markdown",
   "metadata": {},
   "source": [
    "GP is 90% data, MS is 10% data approx Slightly more females than males 80% have urban address family size is large for 2/3rd of them"
   ]
  },
  {
   "cell_type": "code",
   "execution_count": 42,
   "metadata": {},
   "outputs": [
    {
     "name": "stdout",
     "output_type": "stream",
     "text": [
      "school\n",
      "0    10.939828\n",
      "1    10.673913\n",
      "Name: G1, dtype: float64\n",
      "\n",
      "sex\n",
      "0    10.620192\n",
      "1    11.229947\n",
      "Name: G1, dtype: float64\n",
      "\n",
      "age\n",
      "15    11.231707\n",
      "16    10.942308\n",
      "17    10.897959\n",
      "18    10.719512\n",
      "19    10.250000\n",
      "20    13.666667\n",
      "21    10.000000\n",
      "22     6.000000\n",
      "Name: G1, dtype: float64\n",
      "\n",
      "address\n",
      "0    11.032573\n",
      "1    10.477273\n",
      "Name: G1, dtype: float64\n",
      "\n",
      "famsize\n",
      "0    10.758007\n",
      "1    11.280702\n",
      "Name: G1, dtype: float64\n",
      "\n",
      "Pstatus\n",
      "0    11.073171\n",
      "1    10.889831\n",
      "Name: G1, dtype: float64\n",
      "\n",
      "Medu\n",
      "0    12.000000\n",
      "1     9.745763\n",
      "2    10.563107\n",
      "3    10.606061\n",
      "4    11.908397\n",
      "Name: G1, dtype: float64\n",
      "\n",
      "Fedu\n",
      "0    12.000000\n",
      "1     9.731707\n",
      "2    11.026087\n",
      "3    10.740000\n",
      "4    11.927083\n",
      "Name: G1, dtype: float64\n",
      "\n",
      "Mjob\n",
      "0    10.457627\n",
      "1    12.205882\n",
      "2    10.177305\n",
      "3    11.388350\n",
      "4    11.534483\n",
      "Name: G1, dtype: float64\n",
      "\n",
      "Fjob\n",
      "0    12.896552\n",
      "1    10.566820\n",
      "2    10.828829\n",
      "3    11.444444\n",
      "4    11.700000\n",
      "Name: G1, dtype: float64\n",
      "\n",
      "reason\n",
      "0    10.600000\n",
      "1    10.833333\n",
      "2    10.816514\n",
      "3    11.457143\n",
      "Name: G1, dtype: float64\n",
      "\n",
      "guardian\n",
      "0    10.882784\n",
      "1    11.111111\n",
      "2    10.562500\n",
      "Name: G1, dtype: float64\n",
      "\n",
      "traveltime\n",
      "1    11.097276\n",
      "2    10.644860\n",
      "3    10.739130\n",
      "4     8.875000\n",
      "Name: G1, dtype: float64\n",
      "\n",
      "studytime\n",
      "1    10.438095\n",
      "2    10.651515\n",
      "3    12.046154\n",
      "4    11.888889\n",
      "Name: G1, dtype: float64\n",
      "\n",
      "failures\n",
      "0    11.467949\n",
      "1     9.560000\n",
      "2     8.352941\n",
      "3     6.937500\n",
      "Name: G1, dtype: float64\n",
      "\n",
      "schoolsup\n",
      "0     9.078431\n",
      "1    11.180233\n",
      "Name: G1, dtype: float64\n",
      "\n",
      "famsup\n",
      "0    11.261438\n",
      "1    10.685950\n",
      "Name: G1, dtype: float64\n",
      "\n",
      "paid\n",
      "0    10.789720\n",
      "1    11.049724\n",
      "Name: G1, dtype: float64\n",
      "\n",
      "activities\n",
      "0    10.716495\n",
      "1    11.094527\n",
      "Name: G1, dtype: float64\n",
      "\n",
      "nursery\n",
      "0    11.025478\n",
      "1    10.456790\n",
      "Name: G1, dtype: float64\n",
      "\n",
      "higher\n",
      "0    11.045333\n",
      "1     8.350000\n",
      "Name: G1, dtype: float64\n",
      "\n",
      "internet\n",
      "0    10.378788\n",
      "1    11.015198\n",
      "Name: G1, dtype: float64\n",
      "\n",
      "romantic\n",
      "0    10.996198\n",
      "1    10.734848\n",
      "Name: G1, dtype: float64\n",
      "\n",
      "famrel\n",
      "1    10.750000\n",
      "2    11.222222\n",
      "3    10.558824\n",
      "4    10.958974\n",
      "5    11.000000\n",
      "Name: G1, dtype: float64\n",
      "\n",
      "freetime\n",
      "1    10.157895\n",
      "2    12.046875\n",
      "3    10.369427\n",
      "4    10.834783\n",
      "5    11.775000\n",
      "Name: G1, dtype: float64\n",
      "\n",
      "goout\n",
      "1    11.130435\n",
      "2    11.368932\n",
      "3    11.276923\n",
      "4    10.430233\n",
      "5     9.792453\n",
      "Name: G1, dtype: float64\n",
      "\n",
      "Dalc\n",
      "1    11.155797\n",
      "2    10.306667\n",
      "3    10.576923\n",
      "4     9.777778\n",
      "5    10.444444\n",
      "Name: G1, dtype: float64\n",
      "\n",
      "Walc\n",
      "1    11.178808\n",
      "2    11.270588\n",
      "3    10.937500\n",
      "4     9.980392\n",
      "5     9.964286\n",
      "Name: G1, dtype: float64\n",
      "\n",
      "health\n",
      "1    11.702128\n",
      "2    11.288889\n",
      "3    10.604396\n",
      "4    10.727273\n",
      "5    10.808219\n",
      "Name: G1, dtype: float64\n",
      "\n"
     ]
    }
   ],
   "source": [
    "MIN_UNIQUE = 10\n",
    "def bivariate(df, target):\n",
    "    for col in df.columns:\n",
    "        if (target!=col) & (len(df[col].unique())<MIN_UNIQUE):\n",
    "            print (df.groupby(col)[target].mean())\n",
    "            print ()\n",
    "bivariate(df, \"G1\")"
   ]
  },
  {
   "cell_type": "markdown",
   "metadata": {},
   "source": [
    "more than 3 failures has a strong effect on G1 grade wants to take higher education had a major effect on G1 all others had minimal effect"
   ]
  },
  {
   "cell_type": "code",
   "execution_count": 44,
   "metadata": {},
   "outputs": [
    {
     "name": "stdout",
     "output_type": "stream",
     "text": [
      "Pearson correlation:\n",
      "G3            1.000000\n",
      "G2            0.904868\n",
      "G1            0.801468\n",
      "failures      0.360415\n",
      "Medu          0.217147\n",
      "higher        0.182465\n",
      "age           0.161579\n",
      "Fedu          0.152457\n",
      "goout         0.132791\n",
      "romantic      0.129970\n",
      "traveltime    0.117142\n",
      "address       0.105756\n",
      "sex           0.103456\n",
      "Mjob          0.102082\n",
      "paid          0.101996\n",
      "reason        0.099773\n",
      "internet      0.098483\n",
      "studytime     0.097820\n",
      "schoolsup     0.082788\n",
      "famsize       0.081407\n",
      "health        0.061335\n",
      "Pstatus       0.058009\n",
      "Dalc          0.054660\n",
      "guardian      0.054193\n",
      "Walc          0.051939\n",
      "nursery       0.051568\n",
      "famrel        0.051363\n",
      "school        0.045017\n",
      "famsup        0.039157\n",
      "absences      0.034247\n",
      "Fjob          0.019246\n",
      "activities    0.016100\n",
      "freetime      0.011307\n",
      "Name: G3, dtype: float64\n",
      "\n",
      "Spearman correlation:\n",
      "G3            1.000000\n",
      "G2            0.957125\n",
      "G1            0.878001\n",
      "failures      0.361224\n",
      "Medu          0.225036\n",
      "age           0.173438\n",
      "higher        0.172418\n",
      "Fedu          0.170049\n",
      "goout         0.166119\n",
      "schoolsup     0.150598\n",
      "Dalc          0.120944\n",
      "traveltime    0.120530\n",
      "address       0.119457\n",
      "internet      0.107816\n",
      "studytime     0.105170\n",
      "Walc          0.104459\n",
      "sex           0.103151\n",
      "reason        0.095830\n",
      "romantic      0.091460\n",
      "Mjob          0.090138\n",
      "famsize       0.066279\n",
      "school        0.064571\n",
      "paid          0.060924\n",
      "famrel        0.054977\n",
      "famsup        0.050482\n",
      "health        0.047790\n",
      "Pstatus       0.044262\n",
      "guardian      0.036241\n",
      "Fjob          0.034005\n",
      "nursery       0.031752\n",
      "activities    0.026090\n",
      "absences      0.017731\n",
      "freetime      0.004994\n",
      "Name: G3, dtype: float64\n",
      "\n"
     ]
    }
   ],
   "source": [
    "def correlations(df, target):\n",
    "    print (\"Pearson correlation:\")\n",
    "    print (abs(df.corr(method='pearson')[target]).sort_values(ascending=False))\n",
    "    print ()\n",
    "    print (\"Spearman correlation:\")\n",
    "    print (abs(df.corr(method='spearman')[target]).sort_values(ascending=False))\n",
    "    print ()\n",
    "correlations(df, \"G3\")"
   ]
  },
  {
   "cell_type": "markdown",
   "metadata": {},
   "source": [
    "Final grade (G3) is highly correlated to second grade (G2) and first grade (G1) as expected and in that order"
   ]
  },
  {
   "cell_type": "markdown",
   "metadata": {},
   "source": [
    "And now let's split the data into training, validation, and test sets. This will help prevent us from overfitting the model, and allow us to test the models accuracy on data it hasn't already seen."
   ]
  },
  {
   "cell_type": "code",
   "execution_count": 45,
   "metadata": {},
   "outputs": [],
   "source": [
    "train_data, validation_data, test_data = np.split(df.sample(frac=1, random_state=1729), [int(0.7 * len(df)), int(0.9 * len(df))])\n",
    "train_data.to_csv('train.csv', header=False, index=False)\n",
    "validation_data.to_csv('validation.csv', header=False, index=False)"
   ]
  },
  {
   "cell_type": "markdown",
   "metadata": {},
   "source": [
    "Now we'll upload these files to S3."
   ]
  },
  {
   "cell_type": "code",
   "execution_count": 46,
   "metadata": {},
   "outputs": [],
   "source": [
    "boto3.Session().resource('s3').Bucket(bucket).Object(os.path.join(prefix, 'train/train.csv')).upload_file('train.csv')\n",
    "boto3.Session().resource('s3').Bucket(bucket).Object(os.path.join(prefix, 'validation/validation.csv')).upload_file('validation.csv')"
   ]
  },
  {
   "cell_type": "markdown",
   "metadata": {},
   "source": [
    "Training"
   ]
  },
  {
   "cell_type": "code",
   "execution_count": 47,
   "metadata": {},
   "outputs": [],
   "source": [
    "from sagemaker.amazon.amazon_estimator import get_image_uri\n",
    "container = get_image_uri(boto3.Session().region_name, 'xgboost')"
   ]
  },
  {
   "cell_type": "markdown",
   "metadata": {},
   "source": [
    "Then, because we're training with the CSV file format, we'll create s3_inputs that our training function can use as a pointer to the files in S3."
   ]
  },
  {
   "cell_type": "code",
   "execution_count": 48,
   "metadata": {},
   "outputs": [],
   "source": [
    "s3_input_train = sagemaker.s3_input(s3_data='s3://{}/{}/train'.format(bucket, prefix), content_type='csv')\n",
    "s3_input_validation = sagemaker.s3_input(s3_data='s3://{}/{}/validation/'.format(bucket, prefix), content_type='csv')\n",
    "s3_output_location = 's3://{}/{}/{}'.format(bucket, prefix, 'output')"
   ]
  },
  {
   "cell_type": "markdown",
   "metadata": {},
   "source": [
    "Create an instance of the sagemaker.estimator.Estimator class. "
   ]
  },
  {
   "cell_type": "code",
   "execution_count": 49,
   "metadata": {},
   "outputs": [],
   "source": [
    "xgb_model = sagemaker.estimator.Estimator(container,\n",
    "                                         role, \n",
    "                                         train_instance_count=1, \n",
    "                                         train_instance_type='ml.c4.4xlarge',\n",
    "                                         train_volume_size = 5,\n",
    "                                         output_path=s3_output_location,\n",
    "                                         sagemaker_session=sagemaker.Session())"
   ]
  },
  {
   "cell_type": "markdown",
   "metadata": {},
   "source": [
    "xgb_model = sagemaker.estimator.Estimator(container,\n",
    "                                         role, \n",
    "                                         train_instance_count=1, \n",
    "                                         train_instance_type='local', #'ml.m4.xlarge',\n",
    "                                         train_volume_size = 10,\n",
    "                                         output_path=s3_output_location)\n",
    "                                         #sagemaker_session=sagemaker.Session())"
   ]
  },
  {
   "cell_type": "markdown",
   "metadata": {},
   "source": [
    "Set the hyperparameter values for xgboost"
   ]
  },
  {
   "cell_type": "code",
   "execution_count": 50,
   "metadata": {},
   "outputs": [],
   "source": [
    "xgb_model.set_hyperparameters(max_depth = 5,\n",
    "                              eta = .2,\n",
    "                              gamma = 4,\n",
    "                              min_child_weight = 6,\n",
    "                              subsample=0.8,\n",
    "                              silent = 0,\n",
    "                              objective = 'reg:linear',\n",
    "                              num_round = 100)"
   ]
  },
  {
   "cell_type": "markdown",
   "metadata": {},
   "source": [
    "To start model training, call the estimator's fit method. "
   ]
  },
  {
   "cell_type": "code",
   "execution_count": 51,
   "metadata": {},
   "outputs": [
    {
     "name": "stdout",
     "output_type": "stream",
     "text": [
      "2019-07-22 22:10:36 Starting - Starting the training job...\n",
      "2019-07-22 22:10:37 Starting - Launching requested ML instances......\n",
      "2019-07-22 22:12:06 Starting - Preparing the instances for training......\n",
      "2019-07-22 22:13:00 Downloading - Downloading input data\n",
      "2019-07-22 22:13:00 Training - Downloading the training image..\n",
      "\u001b[31mArguments: train\u001b[0m\n",
      "\u001b[31m[2019-07-22:22:13:18:INFO] Running standalone xgboost training.\u001b[0m\n",
      "\u001b[31m[2019-07-22:22:13:18:INFO] File size need to be processed in the node: 0.02mb. Available memory size in the node: 22308.4mb\u001b[0m\n",
      "\u001b[31m[2019-07-22:22:13:18:INFO] Determined delimiter of CSV input is ','\u001b[0m\n",
      "\u001b[31m[22:13:18] S3DistributionType set as FullyReplicated\u001b[0m\n",
      "\u001b[31m[22:13:18] 276x32 matrix with 8832 entries loaded from /opt/ml/input/data/train?format=csv&label_column=0&delimiter=,\u001b[0m\n",
      "\u001b[31m[2019-07-22:22:13:18:INFO] Determined delimiter of CSV input is ','\u001b[0m\n",
      "\u001b[31m[22:13:18] S3DistributionType set as FullyReplicated\u001b[0m\n",
      "\u001b[31m[22:13:18] 79x32 matrix with 2528 entries loaded from /opt/ml/input/data/validation?format=csv&label_column=0&delimiter=,\u001b[0m\n",
      "\u001b[31m[22:13:18] src/tree/updater_prune.cc:74: tree pruning end, 1 roots, 12 extra nodes, 0 pruned nodes, max_depth=4\u001b[0m\n",
      "\u001b[31m[0]#011train-rmse:8.89386#011validation-rmse:8.68642\u001b[0m\n",
      "\u001b[31m[22:13:18] src/tree/updater_prune.cc:74: tree pruning end, 1 roots, 14 extra nodes, 0 pruned nodes, max_depth=5\u001b[0m\n",
      "\u001b[31m[1]#011train-rmse:7.23287#011validation-rmse:7.09416\u001b[0m\n",
      "\u001b[31m[22:13:18] src/tree/updater_prune.cc:74: tree pruning end, 1 roots, 14 extra nodes, 0 pruned nodes, max_depth=4\u001b[0m\n",
      "\u001b[31m[2]#011train-rmse:5.87374#011validation-rmse:5.80949\u001b[0m\n",
      "\u001b[31m[22:13:18] src/tree/updater_prune.cc:74: tree pruning end, 1 roots, 16 extra nodes, 0 pruned nodes, max_depth=4\u001b[0m\n",
      "\u001b[31m[3]#011train-rmse:4.80953#011validation-rmse:4.77407\u001b[0m\n",
      "\u001b[31m[22:13:18] src/tree/updater_prune.cc:74: tree pruning end, 1 roots, 14 extra nodes, 0 pruned nodes, max_depth=5\u001b[0m\n",
      "\u001b[31m[4]#011train-rmse:3.9735#011validation-rmse:3.98307\u001b[0m\n",
      "\u001b[31m[22:13:18] src/tree/updater_prune.cc:74: tree pruning end, 1 roots, 18 extra nodes, 0 pruned nodes, max_depth=5\u001b[0m\n",
      "\u001b[31m[5]#011train-rmse:3.29055#011validation-rmse:3.36128\u001b[0m\n",
      "\u001b[31m[22:13:18] src/tree/updater_prune.cc:74: tree pruning end, 1 roots, 14 extra nodes, 4 pruned nodes, max_depth=5\u001b[0m\n",
      "\u001b[31m[6]#011train-rmse:2.75416#011validation-rmse:2.83513\u001b[0m\n",
      "\u001b[31m[22:13:18] src/tree/updater_prune.cc:74: tree pruning end, 1 roots, 18 extra nodes, 6 pruned nodes, max_depth=4\u001b[0m\n",
      "\u001b[31m[7]#011train-rmse:2.33643#011validation-rmse:2.43296\u001b[0m\n",
      "\u001b[31m[22:13:18] src/tree/updater_prune.cc:74: tree pruning end, 1 roots, 12 extra nodes, 12 pruned nodes, max_depth=4\u001b[0m\n",
      "\u001b[31m[8]#011train-rmse:2.01538#011validation-rmse:2.16802\u001b[0m\n",
      "\u001b[31m[22:13:18] src/tree/updater_prune.cc:74: tree pruning end, 1 roots, 16 extra nodes, 8 pruned nodes, max_depth=4\u001b[0m\n",
      "\u001b[31m[9]#011train-rmse:1.75461#011validation-rmse:1.93501\u001b[0m\n",
      "\u001b[31m[22:13:18] src/tree/updater_prune.cc:74: tree pruning end, 1 roots, 18 extra nodes, 10 pruned nodes, max_depth=4\u001b[0m\n",
      "\u001b[31m[10]#011train-rmse:1.55391#011validation-rmse:1.78426\u001b[0m\n",
      "\u001b[31m[22:13:18] src/tree/updater_prune.cc:74: tree pruning end, 1 roots, 22 extra nodes, 6 pruned nodes, max_depth=5\u001b[0m\n",
      "\u001b[31m[11]#011train-rmse:1.38314#011validation-rmse:1.6979\u001b[0m\n",
      "\u001b[31m[22:13:18] src/tree/updater_prune.cc:74: tree pruning end, 1 roots, 14 extra nodes, 22 pruned nodes, max_depth=5\u001b[0m\n",
      "\u001b[31m[12]#011train-rmse:1.27543#011validation-rmse:1.65521\u001b[0m\n",
      "\u001b[31m[13]#011train-rmse:1.18214#011validation-rmse:1.62129\u001b[0m\n",
      "\u001b[31m[14]#011train-rmse:1.12015#011validation-rmse:1.57829\u001b[0m\n",
      "\u001b[31m[15]#011train-rmse:1.07295#011validation-rmse:1.56759\u001b[0m\n",
      "\u001b[31m[16]#011train-rmse:1.03326#011validation-rmse:1.57275\u001b[0m\n",
      "\u001b[31m[22:13:18] src/tree/updater_prune.cc:74: tree pruning end, 1 roots, 18 extra nodes, 14 pruned nodes, max_depth=5\u001b[0m\n",
      "\u001b[31m[22:13:18] src/tree/updater_prune.cc:74: tree pruning end, 1 roots, 12 extra nodes, 10 pruned nodes, max_depth=5\u001b[0m\n",
      "\u001b[31m[22:13:18] src/tree/updater_prune.cc:74: tree pruning end, 1 roots, 12 extra nodes, 16 pruned nodes, max_depth=5\u001b[0m\n",
      "\u001b[31m[22:13:18] src/tree/updater_prune.cc:74: tree pruning end, 1 roots, 16 extra nodes, 2 pruned nodes, max_depth=5\u001b[0m\n",
      "\u001b[31m[22:13:18] src/tree/updater_prune.cc:74: tree pruning end, 1 roots, 2 extra nodes, 18 pruned nodes, max_depth=1\u001b[0m\n",
      "\u001b[31m[17]#011train-rmse:1.01712#011validation-rmse:1.56455\u001b[0m\n",
      "\u001b[31m[22:13:18] src/tree/updater_prune.cc:74: tree pruning end, 1 roots, 16 extra nodes, 10 pruned nodes, max_depth=5\u001b[0m\n",
      "\u001b[31m[18]#011train-rmse:0.987389#011validation-rmse:1.5647\u001b[0m\n",
      "\u001b[31m[22:13:18] src/tree/updater_prune.cc:74: tree pruning end, 1 roots, 6 extra nodes, 32 pruned nodes, max_depth=3\u001b[0m\n",
      "\u001b[31m[19]#011train-rmse:0.973351#011validation-rmse:1.56081\u001b[0m\n",
      "\u001b[31m[22:13:18] src/tree/updater_prune.cc:74: tree pruning end, 1 roots, 10 extra nodes, 16 pruned nodes, max_depth=5\u001b[0m\n",
      "\u001b[31m[20]#011train-rmse:0.955502#011validation-rmse:1.55981\u001b[0m\n",
      "\u001b[31m[22:13:18] src/tree/updater_prune.cc:74: tree pruning end, 1 roots, 12 extra nodes, 28 pruned nodes, max_depth=4\u001b[0m\n",
      "\u001b[31m[21]#011train-rmse:0.932388#011validation-rmse:1.54436\u001b[0m\n",
      "\u001b[31m[22:13:18] src/tree/updater_prune.cc:74: tree pruning end, 1 roots, 12 extra nodes, 22 pruned nodes, max_depth=5\u001b[0m\n",
      "\u001b[31m[22]#011train-rmse:0.915359#011validation-rmse:1.54123\u001b[0m\n",
      "\u001b[31m[22:13:18] src/tree/updater_prune.cc:74: tree pruning end, 1 roots, 16 extra nodes, 12 pruned nodes, max_depth=5\u001b[0m\n",
      "\u001b[31m[23]#011train-rmse:0.893785#011validation-rmse:1.54565\u001b[0m\n",
      "\u001b[31m[22:13:18] src/tree/updater_prune.cc:74: tree pruning end, 1 roots, 18 extra nodes, 20 pruned nodes, max_depth=5\u001b[0m\n",
      "\u001b[31m[24]#011train-rmse:0.868919#011validation-rmse:1.53531\u001b[0m\n",
      "\u001b[31m[22:13:18] src/tree/updater_prune.cc:74: tree pruning end, 1 roots, 6 extra nodes, 18 pruned nodes, max_depth=3\u001b[0m\n",
      "\u001b[31m[25]#011train-rmse:0.862739#011validation-rmse:1.53445\u001b[0m\n",
      "\u001b[31m[22:13:18] src/tree/updater_prune.cc:74: tree pruning end, 1 roots, 10 extra nodes, 24 pruned nodes, max_depth=5\u001b[0m\n",
      "\u001b[31m[26]#011train-rmse:0.847486#011validation-rmse:1.53243\u001b[0m\n",
      "\u001b[31m[22:13:18] src/tree/updater_prune.cc:74: tree pruning end, 1 roots, 14 extra nodes, 10 pruned nodes, max_depth=5\u001b[0m\n",
      "\u001b[31m[27]#011train-rmse:0.830221#011validation-rmse:1.52537\u001b[0m\n",
      "\u001b[31m[22:13:18] src/tree/updater_prune.cc:74: tree pruning end, 1 roots, 8 extra nodes, 22 pruned nodes, max_depth=4\u001b[0m\n",
      "\u001b[31m[28]#011train-rmse:0.822596#011validation-rmse:1.51749\u001b[0m\n",
      "\u001b[31m[22:13:18] src/tree/updater_prune.cc:74: tree pruning end, 1 roots, 6 extra nodes, 28 pruned nodes, max_depth=3\u001b[0m\n",
      "\u001b[31m[29]#011train-rmse:0.816004#011validation-rmse:1.50601\u001b[0m\n",
      "\u001b[31m[22:13:18] src/tree/updater_prune.cc:74: tree pruning end, 1 roots, 8 extra nodes, 30 pruned nodes, max_depth=4\u001b[0m\n",
      "\u001b[31m[30]#011train-rmse:0.808167#011validation-rmse:1.50796\u001b[0m\n",
      "\u001b[31m[22:13:18] src/tree/updater_prune.cc:74: tree pruning end, 1 roots, 10 extra nodes, 10 pruned nodes, max_depth=5\u001b[0m\n",
      "\u001b[31m[31]#011train-rmse:0.798927#011validation-rmse:1.51177\u001b[0m\n",
      "\u001b[31m[22:13:18] src/tree/updater_prune.cc:74: tree pruning end, 1 roots, 10 extra nodes, 10 pruned nodes, max_depth=5\u001b[0m\n",
      "\u001b[31m[32]#011train-rmse:0.792725#011validation-rmse:1.51586\u001b[0m\n",
      "\u001b[31m[22:13:18] src/tree/updater_prune.cc:74: tree pruning end, 1 roots, 0 extra nodes, 24 pruned nodes, max_depth=0\u001b[0m\n",
      "\u001b[31m[33]#011train-rmse:0.792782#011validation-rmse:1.51624\u001b[0m\n",
      "\u001b[31m[22:13:18] src/tree/updater_prune.cc:74: tree pruning end, 1 roots, 0 extra nodes, 26 pruned nodes, max_depth=0\u001b[0m\n",
      "\u001b[31m[34]#011train-rmse:0.792696#011validation-rmse:1.51562\u001b[0m\n",
      "\u001b[31m[22:13:18] src/tree/updater_prune.cc:74: tree pruning end, 1 roots, 8 extra nodes, 24 pruned nodes, max_depth=4\u001b[0m\n",
      "\u001b[31m[35]#011train-rmse:0.784714#011validation-rmse:1.52144\u001b[0m\n",
      "\u001b[31m[22:13:18] src/tree/updater_prune.cc:74: tree pruning end, 1 roots, 10 extra nodes, 18 pruned nodes, max_depth=5\u001b[0m\n",
      "\u001b[31m[36]#011train-rmse:0.777087#011validation-rmse:1.52962\u001b[0m\n",
      "\u001b[31m[22:13:18] src/tree/updater_prune.cc:74: tree pruning end, 1 roots, 10 extra nodes, 32 pruned nodes, max_depth=4\u001b[0m\n",
      "\u001b[31m[37]#011train-rmse:0.764713#011validation-rmse:1.52881\u001b[0m\n",
      "\u001b[31m[22:13:18] src/tree/updater_prune.cc:74: tree pruning end, 1 roots, 0 extra nodes, 32 pruned nodes, max_depth=0\u001b[0m\n",
      "\u001b[31m[38]#011train-rmse:0.764713#011validation-rmse:1.52881\u001b[0m\n",
      "\u001b[31m[22:13:18] src/tree/updater_prune.cc:74: tree pruning end, 1 roots, 0 extra nodes, 38 pruned nodes, max_depth=0\u001b[0m\n",
      "\u001b[31m[39]#011train-rmse:0.764718#011validation-rmse:1.529\u001b[0m\n",
      "\u001b[31m[22:13:18] src/tree/updater_prune.cc:74: tree pruning end, 1 roots, 0 extra nodes, 26 pruned nodes, max_depth=0\u001b[0m\n",
      "\u001b[31m[40]#011train-rmse:0.764762#011validation-rmse:1.52963\u001b[0m\n",
      "\u001b[31m[22:13:18] src/tree/updater_prune.cc:74: tree pruning end, 1 roots, 0 extra nodes, 28 pruned nodes, max_depth=0\u001b[0m\n",
      "\u001b[31m[41]#011train-rmse:0.764783#011validation-rmse:1.52982\u001b[0m\n",
      "\u001b[31m[22:13:18] src/tree/updater_prune.cc:74: tree pruning end, 1 roots, 8 extra nodes, 28 pruned nodes, max_depth=4\u001b[0m\n",
      "\u001b[31m[42]#011train-rmse:0.758677#011validation-rmse:1.53295\u001b[0m\n",
      "\u001b[31m[22:13:18] src/tree/updater_prune.cc:74: tree pruning end, 1 roots, 0 extra nodes, 28 pruned nodes, max_depth=0\u001b[0m\n",
      "\u001b[31m[43]#011train-rmse:0.758615#011validation-rmse:1.53211\u001b[0m\n",
      "\u001b[31m[22:13:18] src/tree/updater_prune.cc:74: tree pruning end, 1 roots, 0 extra nodes, 32 pruned nodes, max_depth=0\u001b[0m\n",
      "\u001b[31m[44]#011train-rmse:0.758616#011validation-rmse:1.53171\u001b[0m\n",
      "\u001b[31m[22:13:18] src/tree/updater_prune.cc:74: tree pruning end, 1 roots, 0 extra nodes, 36 pruned nodes, max_depth=0\u001b[0m\n",
      "\u001b[31m[45]#011train-rmse:0.758645#011validation-rmse:1.53126\u001b[0m\n",
      "\u001b[31m[22:13:18] src/tree/updater_prune.cc:74: tree pruning end, 1 roots, 8 extra nodes, 26 pruned nodes, max_depth=4\u001b[0m\n",
      "\u001b[31m[46]#011train-rmse:0.751676#011validation-rmse:1.53536\u001b[0m\n",
      "\u001b[31m[22:13:18] src/tree/updater_prune.cc:74: tree pruning end, 1 roots, 0 extra nodes, 34 pruned nodes, max_depth=0\u001b[0m\n",
      "\u001b[31m[47]#011train-rmse:0.75167#011validation-rmse:1.5355\u001b[0m\n",
      "\u001b[31m[22:13:18] src/tree/updater_prune.cc:74: tree pruning end, 1 roots, 0 extra nodes, 30 pruned nodes, max_depth=0\u001b[0m\n",
      "\u001b[31m[48]#011train-rmse:0.751685#011validation-rmse:1.53521\u001b[0m\n",
      "\u001b[31m[22:13:18] src/tree/updater_prune.cc:74: tree pruning end, 1 roots, 6 extra nodes, 30 pruned nodes, max_depth=3\u001b[0m\n",
      "\u001b[31m[49]#011train-rmse:0.745612#011validation-rmse:1.53677\u001b[0m\n",
      "\u001b[31m[22:13:18] src/tree/updater_prune.cc:74: tree pruning end, 1 roots, 0 extra nodes, 30 pruned nodes, max_depth=0\u001b[0m\n",
      "\u001b[31m[50]#011train-rmse:0.745672#011validation-rmse:1.53636\u001b[0m\n",
      "\u001b[31m[22:13:18] src/tree/updater_prune.cc:74: tree pruning end, 1 roots, 0 extra nodes, 24 pruned nodes, max_depth=0\u001b[0m\n",
      "\u001b[31m[51]#011train-rmse:0.745713#011validation-rmse:1.53615\u001b[0m\n",
      "\u001b[31m[22:13:18] src/tree/updater_prune.cc:74: tree pruning end, 1 roots, 6 extra nodes, 22 pruned nodes, max_depth=3\u001b[0m\n",
      "\u001b[31m[52]#011train-rmse:0.739043#011validation-rmse:1.54161\u001b[0m\n",
      "\u001b[31m[22:13:18] src/tree/updater_prune.cc:74: tree pruning end, 1 roots, 0 extra nodes, 28 pruned nodes, max_depth=0\u001b[0m\n",
      "\u001b[31m[53]#011train-rmse:0.738997#011validation-rmse:1.54243\u001b[0m\n",
      "\u001b[31m[22:13:18] src/tree/updater_prune.cc:74: tree pruning end, 1 roots, 6 extra nodes, 10 pruned nodes, max_depth=3\u001b[0m\n",
      "\u001b[31m[54]#011train-rmse:0.735285#011validation-rmse:1.54006\u001b[0m\n",
      "\u001b[31m[22:13:18] src/tree/updater_prune.cc:74: tree pruning end, 1 roots, 0 extra nodes, 26 pruned nodes, max_depth=0\u001b[0m\n",
      "\u001b[31m[55]#011train-rmse:0.7353#011validation-rmse:1.5395\u001b[0m\n",
      "\u001b[31m[22:13:18] src/tree/updater_prune.cc:74: tree pruning end, 1 roots, 0 extra nodes, 26 pruned nodes, max_depth=0\u001b[0m\n",
      "\u001b[31m[56]#011train-rmse:0.735293#011validation-rmse:1.53963\u001b[0m\n",
      "\u001b[31m[22:13:18] src/tree/updater_prune.cc:74: tree pruning end, 1 roots, 0 extra nodes, 24 pruned nodes, max_depth=0\u001b[0m\n",
      "\u001b[31m[57]#011train-rmse:0.735312#011validation-rmse:1.53934\u001b[0m\n",
      "\u001b[31m[22:13:18] src/tree/updater_prune.cc:74: tree pruning end, 1 roots, 0 extra nodes, 24 pruned nodes, max_depth=0\u001b[0m\n",
      "\u001b[31m[58]#011train-rmse:0.735309#011validation-rmse:1.53938\u001b[0m\n",
      "\u001b[31m[22:13:18] src/tree/updater_prune.cc:74: tree pruning end, 1 roots, 0 extra nodes, 34 pruned nodes, max_depth=0\u001b[0m\n",
      "\u001b[31m[59]#011train-rmse:0.735285#011validation-rmse:1.54006\u001b[0m\n",
      "\u001b[31m[22:13:18] src/tree/updater_prune.cc:74: tree pruning end, 1 roots, 10 extra nodes, 22 pruned nodes, max_depth=5\u001b[0m\n",
      "\u001b[31m[60]#011train-rmse:0.726053#011validation-rmse:1.5496\u001b[0m\n",
      "\u001b[31m[22:13:18] src/tree/updater_prune.cc:74: tree pruning end, 1 roots, 0 extra nodes, 20 pruned nodes, max_depth=0\u001b[0m\n",
      "\u001b[31m[61]#011train-rmse:0.726053#011validation-rmse:1.5496\u001b[0m\n",
      "\u001b[31m[22:13:18] src/tree/updater_prune.cc:74: tree pruning end, 1 roots, 0 extra nodes, 22 pruned nodes, max_depth=0\u001b[0m\n",
      "\u001b[31m[62]#011train-rmse:0.726138#011validation-rmse:1.55015\u001b[0m\n",
      "\u001b[31m[22:13:18] src/tree/updater_prune.cc:74: tree pruning end, 1 roots, 0 extra nodes, 38 pruned nodes, max_depth=0\u001b[0m\n",
      "\u001b[31m[63]#011train-rmse:0.726143#011validation-rmse:1.55018\u001b[0m\n",
      "\u001b[31m[22:13:18] src/tree/updater_prune.cc:74: tree pruning end, 1 roots, 0 extra nodes, 32 pruned nodes, max_depth=0\u001b[0m\n",
      "\u001b[31m[64]#011train-rmse:0.726084#011validation-rmse:1.54982\u001b[0m\n",
      "\u001b[31m[22:13:18] src/tree/updater_prune.cc:74: tree pruning end, 1 roots, 0 extra nodes, 28 pruned nodes, max_depth=0\u001b[0m\n",
      "\u001b[31m[65]#011train-rmse:0.726062#011validation-rmse:1.54966\u001b[0m\n",
      "\u001b[31m[22:13:18] src/tree/updater_prune.cc:74: tree pruning end, 1 roots, 0 extra nodes, 20 pruned nodes, max_depth=0\u001b[0m\n",
      "\u001b[31m[66]#011train-rmse:0.726042#011validation-rmse:1.5495\u001b[0m\n",
      "\u001b[31m[22:13:18] src/tree/updater_prune.cc:74: tree pruning end, 1 roots, 8 extra nodes, 34 pruned nodes, max_depth=4\u001b[0m\n",
      "\u001b[31m[67]#011train-rmse:0.718543#011validation-rmse:1.54431\u001b[0m\n",
      "\u001b[31m[22:13:18] src/tree/updater_prune.cc:74: tree pruning end, 1 roots, 0 extra nodes, 28 pruned nodes, max_depth=0\u001b[0m\n",
      "\u001b[31m[68]#011train-rmse:0.718542#011validation-rmse:1.54431\u001b[0m\n",
      "\u001b[31m[22:13:18] src/tree/updater_prune.cc:74: tree pruning end, 1 roots, 0 extra nodes, 20 pruned nodes, max_depth=0\u001b[0m\n",
      "\u001b[31m[69]#011train-rmse:0.718658#011validation-rmse:1.54509\u001b[0m\n",
      "\u001b[31m[22:13:18] src/tree/updater_prune.cc:74: tree pruning end, 1 roots, 0 extra nodes, 36 pruned nodes, max_depth=0\u001b[0m\n",
      "\u001b[31m[70]#011train-rmse:0.718522#011validation-rmse:1.5441\u001b[0m\n",
      "\u001b[31m[22:13:18] src/tree/updater_prune.cc:74: tree pruning end, 1 roots, 0 extra nodes, 32 pruned nodes, max_depth=0\u001b[0m\n",
      "\u001b[31m[71]#011train-rmse:0.718552#011validation-rmse:1.5444\u001b[0m\n",
      "\u001b[31m[22:13:18] src/tree/updater_prune.cc:74: tree pruning end, 1 roots, 0 extra nodes, 34 pruned nodes, max_depth=0\u001b[0m\n",
      "\u001b[31m[72]#011train-rmse:0.718497#011validation-rmse:1.54315\u001b[0m\n",
      "\u001b[31m[22:13:18] src/tree/updater_prune.cc:74: tree pruning end, 1 roots, 0 extra nodes, 22 pruned nodes, max_depth=0\u001b[0m\n",
      "\u001b[31m[73]#011train-rmse:0.718512#011validation-rmse:1.54396\u001b[0m\n",
      "\u001b[31m[22:13:18] src/tree/updater_prune.cc:74: tree pruning end, 1 roots, 0 extra nodes, 34 pruned nodes, max_depth=0\u001b[0m\n",
      "\u001b[31m[74]#011train-rmse:0.718496#011validation-rmse:1.54319\u001b[0m\n",
      "\u001b[31m[22:13:18] src/tree/updater_prune.cc:74: tree pruning end, 1 roots, 0 extra nodes, 38 pruned nodes, max_depth=0\u001b[0m\n",
      "\u001b[31m[75]#011train-rmse:0.718493#011validation-rmse:1.54351\u001b[0m\n",
      "\u001b[31m[22:13:18] src/tree/updater_prune.cc:74: tree pruning end, 1 roots, 0 extra nodes, 24 pruned nodes, max_depth=0\u001b[0m\n",
      "\u001b[31m[76]#011train-rmse:0.718507#011validation-rmse:1.54388\u001b[0m\n",
      "\u001b[31m[22:13:18] src/tree/updater_prune.cc:74: tree pruning end, 1 roots, 0 extra nodes, 22 pruned nodes, max_depth=0\u001b[0m\n",
      "\u001b[31m[77]#011train-rmse:0.718493#011validation-rmse:1.5433\u001b[0m\n",
      "\u001b[31m[22:13:18] src/tree/updater_prune.cc:74: tree pruning end, 1 roots, 0 extra nodes, 36 pruned nodes, max_depth=0\u001b[0m\n",
      "\u001b[31m[78]#011train-rmse:0.718507#011validation-rmse:1.54389\u001b[0m\n",
      "\u001b[31m[22:13:18] src/tree/updater_prune.cc:74: tree pruning end, 1 roots, 0 extra nodes, 30 pruned nodes, max_depth=0\u001b[0m\n",
      "\u001b[31m[79]#011train-rmse:0.718556#011validation-rmse:1.54444\u001b[0m\n",
      "\u001b[31m[22:13:18] src/tree/updater_prune.cc:74: tree pruning end, 1 roots, 0 extra nodes, 40 pruned nodes, max_depth=0\u001b[0m\n",
      "\u001b[31m[80]#011train-rmse:0.718494#011validation-rmse:1.54354\u001b[0m\n",
      "\u001b[31m[22:13:18] src/tree/updater_prune.cc:74: tree pruning end, 1 roots, 0 extra nodes, 28 pruned nodes, max_depth=0\u001b[0m\n",
      "\u001b[31m[81]#011train-rmse:0.718498#011validation-rmse:1.54312\u001b[0m\n",
      "\u001b[31m[22:13:18] src/tree/updater_prune.cc:74: tree pruning end, 1 roots, 0 extra nodes, 34 pruned nodes, max_depth=0\u001b[0m\n",
      "\u001b[31m[82]#011train-rmse:0.718493#011validation-rmse:1.54341\u001b[0m\n",
      "\u001b[31m[22:13:18] src/tree/updater_prune.cc:74: tree pruning end, 1 roots, 0 extra nodes, 28 pruned nodes, max_depth=0\u001b[0m\n",
      "\u001b[31m[83]#011train-rmse:0.718503#011validation-rmse:1.54302\u001b[0m\n",
      "\u001b[31m[22:13:18] src/tree/updater_prune.cc:74: tree pruning end, 1 roots, 8 extra nodes, 30 pruned nodes, max_depth=4\u001b[0m\n",
      "\u001b[31m[84]#011train-rmse:0.709917#011validation-rmse:1.54537\u001b[0m\n",
      "\u001b[31m[22:13:18] src/tree/updater_prune.cc:74: tree pruning end, 1 roots, 0 extra nodes, 24 pruned nodes, max_depth=0\u001b[0m\n",
      "\u001b[31m[85]#011train-rmse:0.709886#011validation-rmse:1.54581\u001b[0m\n",
      "\u001b[31m[22:13:18] src/tree/updater_prune.cc:74: tree pruning end, 1 roots, 0 extra nodes, 38 pruned nodes, max_depth=0\u001b[0m\n",
      "\u001b[31m[86]#011train-rmse:0.709881#011validation-rmse:1.54619\u001b[0m\n",
      "\u001b[31m[22:13:18] src/tree/updater_prune.cc:74: tree pruning end, 1 roots, 0 extra nodes, 32 pruned nodes, max_depth=0\u001b[0m\n",
      "\u001b[31m[87]#011train-rmse:0.709926#011validation-rmse:1.54699\u001b[0m\n",
      "\u001b[31m[22:13:18] src/tree/updater_prune.cc:74: tree pruning end, 1 roots, 0 extra nodes, 24 pruned nodes, max_depth=0\u001b[0m\n",
      "\u001b[31m[88]#011train-rmse:0.709972#011validation-rmse:1.54737\u001b[0m\n",
      "\u001b[31m[22:13:18] src/tree/updater_prune.cc:74: tree pruning end, 1 roots, 0 extra nodes, 26 pruned nodes, max_depth=0\u001b[0m\n",
      "\u001b[31m[89]#011train-rmse:0.709904#011validation-rmse:1.54674\u001b[0m\n",
      "\u001b[31m[22:13:18] src/tree/updater_prune.cc:74: tree pruning end, 1 roots, 0 extra nodes, 24 pruned nodes, max_depth=0\u001b[0m\n",
      "\u001b[31m[90]#011train-rmse:0.709882#011validation-rmse:1.54629\u001b[0m\n",
      "\u001b[31m[22:13:18] src/tree/updater_prune.cc:74: tree pruning end, 1 roots, 0 extra nodes, 28 pruned nodes, max_depth=0\u001b[0m\n",
      "\u001b[31m[91]#011train-rmse:0.709881#011validation-rmse:1.54602\u001b[0m\n",
      "\u001b[31m[22:13:18] src/tree/updater_prune.cc:74: tree pruning end, 1 roots, 0 extra nodes, 22 pruned nodes, max_depth=0\u001b[0m\n",
      "\u001b[31m[92]#011train-rmse:0.709882#011validation-rmse:1.54628\u001b[0m\n",
      "\u001b[31m[22:13:18] src/tree/updater_prune.cc:74: tree pruning end, 1 roots, 10 extra nodes, 16 pruned nodes, max_depth=5\u001b[0m\n",
      "\u001b[31m[93]#011train-rmse:0.701388#011validation-rmse:1.54796\u001b[0m\n",
      "\u001b[31m[22:13:18] src/tree/updater_prune.cc:74: tree pruning end, 1 roots, 0 extra nodes, 22 pruned nodes, max_depth=0\u001b[0m\n",
      "\u001b[31m[94]#011train-rmse:0.701399#011validation-rmse:1.54737\u001b[0m\n",
      "\u001b[31m[22:13:18] src/tree/updater_prune.cc:74: tree pruning end, 1 roots, 0 extra nodes, 18 pruned nodes, max_depth=0\u001b[0m\n",
      "\u001b[31m[95]#011train-rmse:0.70139#011validation-rmse:1.54757\u001b[0m\n",
      "\u001b[31m[22:13:18] src/tree/updater_prune.cc:74: tree pruning end, 1 roots, 10 extra nodes, 24 pruned nodes, max_depth=5\u001b[0m\n",
      "\u001b[31m[96]#011train-rmse:0.693359#011validation-rmse:1.55335\u001b[0m\n",
      "\u001b[31m[22:13:18] src/tree/updater_prune.cc:74: tree pruning end, 1 roots, 0 extra nodes, 36 pruned nodes, max_depth=0\u001b[0m\n",
      "\u001b[31m[97]#011train-rmse:0.693373#011validation-rmse:1.55316\u001b[0m\n",
      "\u001b[31m[22:13:18] src/tree/updater_prune.cc:74: tree pruning end, 1 roots, 0 extra nodes, 28 pruned nodes, max_depth=0\u001b[0m\n",
      "\u001b[31m[98]#011train-rmse:0.693348#011validation-rmse:1.55358\u001b[0m\n",
      "\u001b[31m[22:13:18] src/tree/updater_prune.cc:74: tree pruning end, 1 roots, 0 extra nodes, 38 pruned nodes, max_depth=0\u001b[0m\n",
      "\u001b[31m[99]#011train-rmse:0.693342#011validation-rmse:1.55396\u001b[0m\n"
     ]
    },
    {
     "name": "stdout",
     "output_type": "stream",
     "text": [
      "\n",
      "2019-07-22 22:13:30 Uploading - Uploading generated training model\n",
      "2019-07-22 22:13:30 Completed - Training job completed\n",
      "Billable seconds: 36\n"
     ]
    }
   ],
   "source": [
    "xgb_model.fit({'train': s3_input_train, 'validation': s3_input_validation}) "
   ]
  },
  {
   "cell_type": "code",
   "execution_count": 52,
   "metadata": {},
   "outputs": [
    {
     "name": "stdout",
     "output_type": "stream",
     "text": [
      "---------------------------------------------------------------------------------------------------!"
     ]
    }
   ],
   "source": [
    "xgb_predictor = xgb_model.deploy(initial_instance_count=1,\n",
    "                                instance_type='ml.m4.xlarge',\n",
    "                                )"
   ]
  },
  {
   "cell_type": "code",
   "execution_count": 56,
   "metadata": {},
   "outputs": [],
   "source": [
    "xgb_predictor.content_type = 'text/csv'\n",
    "xgb_predictor.serializer = csv_serializer\n",
    "xgb_predictor.deserializer = None"
   ]
  },
  {
   "cell_type": "code",
   "execution_count": 57,
   "metadata": {},
   "outputs": [
    {
     "name": "stderr",
     "output_type": "stream",
     "text": [
      "/home/ec2-user/anaconda3/envs/python3/lib/python3.6/site-packages/ipykernel/__main__.py:9: FutureWarning: Method .as_matrix will be removed in a future version. Use .values instead.\n"
     ]
    }
   ],
   "source": [
    "def predict(data, rows=500):\n",
    "    split_array = np.array_split(data, int(data.shape[0] / float(rows) + 1))\n",
    "    predictions = ''\n",
    "    for array in split_array:\n",
    "        predictions = ','.join([predictions, xgb_predictor.predict(array).decode('utf-8')])\n",
    "\n",
    "    return np.fromstring(predictions[1:], sep=',')\n",
    "\n",
    "dtest = test_data.as_matrix()\n",
    "predictions = []\n",
    "for i in range(dtest.shape[0]):\n",
    "    predictions.append(predict(dtest[i:i+1, 1:]))\n",
    "predictions = np.array(predictions).squeeze()"
   ]
  },
  {
   "cell_type": "code",
   "execution_count": 58,
   "metadata": {},
   "outputs": [
    {
     "data": {
      "text/html": [
       "<div>\n",
       "<style scoped>\n",
       "    .dataframe tbody tr th:only-of-type {\n",
       "        vertical-align: middle;\n",
       "    }\n",
       "\n",
       "    .dataframe tbody tr th {\n",
       "        vertical-align: top;\n",
       "    }\n",
       "\n",
       "    .dataframe thead th {\n",
       "        text-align: right;\n",
       "    }\n",
       "</style>\n",
       "<table border=\"1\" class=\"dataframe\">\n",
       "  <thead>\n",
       "    <tr style=\"text-align: right;\">\n",
       "      <th></th>\n",
       "      <th>G3</th>\n",
       "      <th>school</th>\n",
       "      <th>sex</th>\n",
       "      <th>age</th>\n",
       "      <th>address</th>\n",
       "      <th>famsize</th>\n",
       "      <th>Pstatus</th>\n",
       "      <th>Medu</th>\n",
       "      <th>Fedu</th>\n",
       "      <th>Mjob</th>\n",
       "      <th>Fjob</th>\n",
       "      <th>reason</th>\n",
       "      <th>guardian</th>\n",
       "      <th>traveltime</th>\n",
       "      <th>studytime</th>\n",
       "      <th>failures</th>\n",
       "      <th>schoolsup</th>\n",
       "      <th>famsup</th>\n",
       "      <th>paid</th>\n",
       "      <th>activities</th>\n",
       "      <th>nursery</th>\n",
       "      <th>higher</th>\n",
       "      <th>internet</th>\n",
       "      <th>romantic</th>\n",
       "      <th>famrel</th>\n",
       "      <th>freetime</th>\n",
       "      <th>goout</th>\n",
       "      <th>Dalc</th>\n",
       "      <th>Walc</th>\n",
       "      <th>health</th>\n",
       "      <th>absences</th>\n",
       "      <th>G1</th>\n",
       "      <th>G2</th>\n",
       "    </tr>\n",
       "  </thead>\n",
       "  <tbody>\n",
       "    <tr>\n",
       "      <th>290</th>\n",
       "      <td>11</td>\n",
       "      <td>0</td>\n",
       "      <td>1</td>\n",
       "      <td>18</td>\n",
       "      <td>0</td>\n",
       "      <td>0</td>\n",
       "      <td>1</td>\n",
       "      <td>4</td>\n",
       "      <td>2</td>\n",
       "      <td>4</td>\n",
       "      <td>1</td>\n",
       "      <td>2</td>\n",
       "      <td>0</td>\n",
       "      <td>1</td>\n",
       "      <td>2</td>\n",
       "      <td>0</td>\n",
       "      <td>1</td>\n",
       "      <td>1</td>\n",
       "      <td>1</td>\n",
       "      <td>1</td>\n",
       "      <td>0</td>\n",
       "      <td>0</td>\n",
       "      <td>1</td>\n",
       "      <td>1</td>\n",
       "      <td>4</td>\n",
       "      <td>3</td>\n",
       "      <td>2</td>\n",
       "      <td>1</td>\n",
       "      <td>4</td>\n",
       "      <td>5</td>\n",
       "      <td>11</td>\n",
       "      <td>12</td>\n",
       "      <td>11</td>\n",
       "    </tr>\n",
       "    <tr>\n",
       "      <th>40</th>\n",
       "      <td>11</td>\n",
       "      <td>0</td>\n",
       "      <td>0</td>\n",
       "      <td>16</td>\n",
       "      <td>0</td>\n",
       "      <td>1</td>\n",
       "      <td>1</td>\n",
       "      <td>2</td>\n",
       "      <td>2</td>\n",
       "      <td>2</td>\n",
       "      <td>1</td>\n",
       "      <td>2</td>\n",
       "      <td>0</td>\n",
       "      <td>2</td>\n",
       "      <td>2</td>\n",
       "      <td>1</td>\n",
       "      <td>1</td>\n",
       "      <td>1</td>\n",
       "      <td>0</td>\n",
       "      <td>1</td>\n",
       "      <td>1</td>\n",
       "      <td>0</td>\n",
       "      <td>1</td>\n",
       "      <td>1</td>\n",
       "      <td>3</td>\n",
       "      <td>3</td>\n",
       "      <td>3</td>\n",
       "      <td>1</td>\n",
       "      <td>2</td>\n",
       "      <td>3</td>\n",
       "      <td>25</td>\n",
       "      <td>7</td>\n",
       "      <td>10</td>\n",
       "    </tr>\n",
       "    <tr>\n",
       "      <th>266</th>\n",
       "      <td>10</td>\n",
       "      <td>0</td>\n",
       "      <td>1</td>\n",
       "      <td>17</td>\n",
       "      <td>0</td>\n",
       "      <td>0</td>\n",
       "      <td>1</td>\n",
       "      <td>3</td>\n",
       "      <td>1</td>\n",
       "      <td>3</td>\n",
       "      <td>1</td>\n",
       "      <td>1</td>\n",
       "      <td>0</td>\n",
       "      <td>1</td>\n",
       "      <td>2</td>\n",
       "      <td>0</td>\n",
       "      <td>1</td>\n",
       "      <td>0</td>\n",
       "      <td>1</td>\n",
       "      <td>1</td>\n",
       "      <td>0</td>\n",
       "      <td>0</td>\n",
       "      <td>1</td>\n",
       "      <td>1</td>\n",
       "      <td>5</td>\n",
       "      <td>4</td>\n",
       "      <td>4</td>\n",
       "      <td>3</td>\n",
       "      <td>4</td>\n",
       "      <td>5</td>\n",
       "      <td>2</td>\n",
       "      <td>9</td>\n",
       "      <td>9</td>\n",
       "    </tr>\n",
       "    <tr>\n",
       "      <th>326</th>\n",
       "      <td>16</td>\n",
       "      <td>0</td>\n",
       "      <td>1</td>\n",
       "      <td>17</td>\n",
       "      <td>0</td>\n",
       "      <td>0</td>\n",
       "      <td>1</td>\n",
       "      <td>3</td>\n",
       "      <td>3</td>\n",
       "      <td>2</td>\n",
       "      <td>2</td>\n",
       "      <td>3</td>\n",
       "      <td>0</td>\n",
       "      <td>1</td>\n",
       "      <td>1</td>\n",
       "      <td>0</td>\n",
       "      <td>1</td>\n",
       "      <td>0</td>\n",
       "      <td>0</td>\n",
       "      <td>1</td>\n",
       "      <td>1</td>\n",
       "      <td>0</td>\n",
       "      <td>1</td>\n",
       "      <td>0</td>\n",
       "      <td>4</td>\n",
       "      <td>3</td>\n",
       "      <td>5</td>\n",
       "      <td>3</td>\n",
       "      <td>5</td>\n",
       "      <td>5</td>\n",
       "      <td>3</td>\n",
       "      <td>14</td>\n",
       "      <td>15</td>\n",
       "    </tr>\n",
       "    <tr>\n",
       "      <th>132</th>\n",
       "      <td>12</td>\n",
       "      <td>0</td>\n",
       "      <td>0</td>\n",
       "      <td>17</td>\n",
       "      <td>0</td>\n",
       "      <td>1</td>\n",
       "      <td>1</td>\n",
       "      <td>2</td>\n",
       "      <td>2</td>\n",
       "      <td>2</td>\n",
       "      <td>1</td>\n",
       "      <td>0</td>\n",
       "      <td>1</td>\n",
       "      <td>1</td>\n",
       "      <td>1</td>\n",
       "      <td>0</td>\n",
       "      <td>1</td>\n",
       "      <td>1</td>\n",
       "      <td>0</td>\n",
       "      <td>0</td>\n",
       "      <td>0</td>\n",
       "      <td>0</td>\n",
       "      <td>1</td>\n",
       "      <td>1</td>\n",
       "      <td>3</td>\n",
       "      <td>4</td>\n",
       "      <td>4</td>\n",
       "      <td>1</td>\n",
       "      <td>3</td>\n",
       "      <td>5</td>\n",
       "      <td>12</td>\n",
       "      <td>10</td>\n",
       "      <td>13</td>\n",
       "    </tr>\n",
       "  </tbody>\n",
       "</table>\n",
       "</div>"
      ],
      "text/plain": [
       "     G3  school  sex  age  address  famsize  Pstatus  Medu  Fedu  Mjob  Fjob  \\\n",
       "290  11       0    1   18        0        0        1     4     2     4     1   \n",
       "40   11       0    0   16        0        1        1     2     2     2     1   \n",
       "266  10       0    1   17        0        0        1     3     1     3     1   \n",
       "326  16       0    1   17        0        0        1     3     3     2     2   \n",
       "132  12       0    0   17        0        1        1     2     2     2     1   \n",
       "\n",
       "     reason  guardian  traveltime  studytime  failures  schoolsup  famsup  \\\n",
       "290       2         0           1          2         0          1       1   \n",
       "40        2         0           2          2         1          1       1   \n",
       "266       1         0           1          2         0          1       0   \n",
       "326       3         0           1          1         0          1       0   \n",
       "132       0         1           1          1         0          1       1   \n",
       "\n",
       "     paid  activities  nursery  higher  internet  romantic  famrel  freetime  \\\n",
       "290     1           1        0       0         1         1       4         3   \n",
       "40      0           1        1       0         1         1       3         3   \n",
       "266     1           1        0       0         1         1       5         4   \n",
       "326     0           1        1       0         1         0       4         3   \n",
       "132     0           0        0       0         1         1       3         4   \n",
       "\n",
       "     goout  Dalc  Walc  health  absences  G1  G2  \n",
       "290      2     1     4       5        11  12  11  \n",
       "40       3     1     2       3        25   7  10  \n",
       "266      4     3     4       5         2   9   9  \n",
       "326      5     3     5       5         3  14  15  \n",
       "132      4     1     3       5        12  10  13  "
      ]
     },
     "execution_count": 58,
     "metadata": {},
     "output_type": "execute_result"
    }
   ],
   "source": [
    "test_data.head()"
   ]
  },
  {
   "cell_type": "code",
   "execution_count": 59,
   "metadata": {},
   "outputs": [
    {
     "name": "stdout",
     "output_type": "stream",
     "text": [
      "1.987468209605832\n"
     ]
    }
   ],
   "source": [
    "import numpy as np\n",
    "from sklearn.metrics import mean_squared_error\n",
    "print (np.sqrt(mean_squared_error(test_data['G3'], predictions)))"
   ]
  },
  {
   "cell_type": "code",
   "execution_count": 60,
   "metadata": {},
   "outputs": [
    {
     "data": {
      "image/png": "[encoded data removed]",
      "text/plain": [
       "<Figure size 432x288 with 1 Axes>"
      ]
     },
     "metadata": {},
     "output_type": "display_data"
    }
   ],
   "source": [
    "import matplotlib.pyplot as plt\n",
    "plt.scatter(predictions, test_data['G3'])\n",
    "plt.show()"
   ]
  },
  {
   "cell_type": "markdown",
   "metadata": {},
   "source": [
    "Clean-up¶\n",
    "\n",
    "If you're ready to be done with this notebook, please run the cell below. This will remove the hosted endpoint you created and avoid any charges from a stray instance being left on."
   ]
  },
  {
   "cell_type": "code",
   "execution_count": null,
   "metadata": {},
   "outputs": [],
   "source": [
    "sagemaker.Session().delete_endpoint(xgb_predictor.endpoint)"
   ]
  }
 ],
 "metadata": {
  "kernelspec": {
   "display_name": "conda_python3",
   "language": "python",
   "name": "conda_python3"
  },
  "language_info": {
   "codemirror_mode": {
    "name": "ipython",
    "version": 3
   },
   "file_extension": ".py",
   "mimetype": "text/x-python",
   "name": "python",
   "nbconvert_exporter": "python",
   "pygments_lexer": "ipython3",
   "version": "3.6.5"
  }
 },
 "nbformat": 4,
 "nbformat_minor": 2
}
